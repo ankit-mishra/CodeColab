{
  "nbformat": 4,
  "nbformat_minor": 0,
  "metadata": {
    "colab": {
      "name": "Keras_Models_Layers.ipynb",
      "provenance": [],
      "collapsed_sections": []
    },
    "kernelspec": {
      "name": "python3",
      "display_name": "Python 3"
    }
  },
  "cells": [
    {
      "cell_type": "markdown",
      "metadata": {
        "id": "VFI7ZOvis55x",
        "colab_type": "text"
      },
      "source": [
        "The core data structures of Keras are layers and models. The simplest type of model is the Sequential model, a linear stack of layers."
      ]
    },
    {
      "cell_type": "code",
      "metadata": {
        "id": "0eUZQlSmomWY",
        "colab_type": "code",
        "colab": {}
      },
      "source": [
        "from tensorflow.keras.models import Sequential\n",
        "from tensorflow import keras\n",
        "model = Sequential()"
      ],
      "execution_count": 21,
      "outputs": []
    },
    {
      "cell_type": "markdown",
      "metadata": {
        "id": "0FzCYHsXtZtV",
        "colab_type": "text"
      },
      "source": [
        "Stacking layers is as easy as .add():"
      ]
    },
    {
      "cell_type": "code",
      "metadata": {
        "id": "u6w8BQeSowTj",
        "colab_type": "code",
        "colab": {}
      },
      "source": [
        "from tensorflow.keras.layers import Dense\n",
        "\n",
        "model.add(Dense(units=64, activation='relu'))\n",
        "model.add(Dense(units=10, activation='softmax'))"
      ],
      "execution_count": 22,
      "outputs": []
    },
    {
      "cell_type": "markdown",
      "metadata": {
        "id": "vjMEE3jttfZA",
        "colab_type": "text"
      },
      "source": [
        "Once your model looks good, configure its learning process with .compile():\n",
        "\n"
      ]
    },
    {
      "cell_type": "code",
      "metadata": {
        "id": "YLGiau5QqNli",
        "colab_type": "code",
        "colab": {}
      },
      "source": [
        "model.compile(loss='categorical_crossentropy',\n",
        "              optimizer='sgd',\n",
        "              metrics=['accuracy'])"
      ],
      "execution_count": 23,
      "outputs": []
    },
    {
      "cell_type": "code",
      "metadata": {
        "id": "_LXIXWz8qRVd",
        "colab_type": "code",
        "colab": {}
      },
      "source": [
        "model.compile(loss=keras.losses.categorical_crossentropy,\n",
        "              optimizer=keras.optimizers.SGD(learning_rate=0.01, momentum=0.9, nesterov=True))"
      ],
      "execution_count": 24,
      "outputs": []
    },
    {
      "cell_type": "code",
      "metadata": {
        "id": "QlFzRPAeqbSq",
        "colab_type": "code",
        "colab": {}
      },
      "source": [
        "# x_train and y_train are Numpy arrays --just like in the Scikit-Learn API.\n",
        "# model.fit(x_train, y_train, epochs=5, batch_size=32)"
      ],
      "execution_count": 25,
      "outputs": []
    },
    {
      "cell_type": "code",
      "metadata": {
        "id": "I9d-SdScqf_Z",
        "colab_type": "code",
        "colab": {}
      },
      "source": [
        "# loss_and_metrics = model.evaluate(x_test, y_test, batch_size=128)"
      ],
      "execution_count": 26,
      "outputs": []
    },
    {
      "cell_type": "code",
      "metadata": {
        "id": "Xi3iZOIRqzE7",
        "colab_type": "code",
        "colab": {}
      },
      "source": [
        "# classes = model.predict(x_test, batch_size=128)"
      ],
      "execution_count": 27,
      "outputs": []
    }
  ]
}