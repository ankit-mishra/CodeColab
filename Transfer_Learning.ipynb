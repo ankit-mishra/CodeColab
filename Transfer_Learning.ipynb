{
  "nbformat": 4,
  "nbformat_minor": 0,
  "metadata": {
    "colab": {
      "name": "Welcome to Colaboratory",
      "provenance": [],
      "collapsed_sections": [],
      "toc_visible": true
    },
    "kernelspec": {
      "display_name": "Python 3",
      "name": "python3"
    }
  },
  "cells": [
    {
      "cell_type": "code",
      "metadata": {
        "id": "OInPtOJuoyHV"
      },
      "source": [
        "!pip install tensorflow-gpu"
      ],
      "execution_count": null,
      "outputs": []
    },
    {
      "cell_type": "code",
      "metadata": {
        "id": "V7Q4QVQdpJHs"
      },
      "source": [
        "import tensorflow as tf\n",
        "import pandas as pd\n",
        "import numpy as np\n",
        "import matplotlib.pyplot as plt\n",
        "import seaborn as sns\n",
        "import random"
      ],
      "execution_count": 3,
      "outputs": []
    },
    {
      "cell_type": "code",
      "metadata": {
        "id": "RXK4E19CpN3q"
      },
      "source": [
        "base_model = tf.keras.applications.ResNet50(weights='imagenet', include_top = False)\n",
        "print(base_model.summary())"
      ],
      "execution_count": null,
      "outputs": []
    },
    {
      "cell_type": "code",
      "metadata": {
        "id": "EULqpZybpdkC"
      },
      "source": [
        "for i, layer in enumerate(base_model.layers):\n",
        "  print(i, layer.name)"
      ],
      "execution_count": null,
      "outputs": []
    },
    {
      "cell_type": "code",
      "metadata": {
        "id": "T57HUwOMuKzi"
      },
      "source": [
        "x = base_model.output\n",
        "x = tf.keras.layers.GlobalAveragePooling2D()(x)"
      ],
      "execution_count": 7,
      "outputs": []
    },
    {
      "cell_type": "code",
      "metadata": {
        "id": "-Tvd4nrTufXi"
      },
      "source": [
        "x = tf.keras.layers.Dense(1024, activation='relu')(x)\n",
        "x = tf.keras.layers.Dense(1024, activation='relu')(x)\n",
        "x = tf.keras.layers.Dense(1024, activation='relu')(x)\n",
        "x = tf.keras.layers.Dense(512, activation='relu')(x)\n",
        "preds = tf.keras.layers.Dense(2, activation ='softmax')(x)"
      ],
      "execution_count": 9,
      "outputs": []
    },
    {
      "cell_type": "code",
      "metadata": {
        "id": "2YqzUO-dut-W"
      },
      "source": [
        "model = tf.keras.models.Model(inputs=base_model.input, outputs=preds)\n",
        "print(model.summary())"
      ],
      "execution_count": null,
      "outputs": []
    }
  ]
}