{
  "nbformat": 4,
  "nbformat_minor": 0,
  "metadata": {
    "colab": {
      "name": "Untitled4.ipynb",
      "provenance": [],
      "collapsed_sections": []
    },
    "kernelspec": {
      "name": "python3",
      "display_name": "Python 3"
    }
  },
  "cells": [
    {
      "cell_type": "markdown",
      "metadata": {
        "id": "vjF0pbd4sQZk",
        "colab_type": "text"
      },
      "source": [
        "fft(x[, n, axis, overwrite_x])\n",
        "\n",
        "The first parameter, x, is always the signal in any array-like form.\n",
        "\n",
        "Note that fft performs one-dimensional transforms.\n",
        "This means that if x happens to be two-dimensional, for example, fft will output another two-dimensional array, where each row is the transform of each row of the original. \n",
        "We can use columns instead, with the optional axis parameter.\n",
        "\n",
        "The rest of the parameters are also optional: \n",
        "n indicates the length of the transform \n",
        "overwrite_x gets rid of the original data to save memory and resources.\n",
        "\n",
        "We usually play with the n integer when we need to pad the signal with zeros or truncate it. \n",
        "\n",
        "For a higher dimension, n is substituted by shape (a tuple) and axis by axes (another tuple). To better understand the output, it is often useful to shift the zero frequencies to the center of the output arrays with ifftshift."
      ]
    },
    {
      "cell_type": "markdown",
      "metadata": {
        "id": "2kAXhZAusKn0",
        "colab_type": "text"
      },
      "source": [
        "https://hub.packtpub.com/compute-discrete-fourier-transform-dft-using-scipy/"
      ]
    },
    {
      "cell_type": "code",
      "metadata": {
        "id": "MeuxxDubrhU6",
        "colab_type": "code",
        "colab": {}
      },
      "source": [
        "import numpy\n",
        "import matplotlib.pyplot as plt\n",
        "from scipy.fftpack import fft,fft2, fftshift"
      ],
      "execution_count": 1,
      "outputs": []
    },
    {
      "cell_type": "code",
      "metadata": {
        "id": "pwjn87ntrqCg",
        "colab_type": "code",
        "colab": {}
      },
      "source": [
        "B=numpy.ones((4,4));\n",
        "W=numpy.zeros((4,4))\n",
        "\n",
        "signal = numpy.bmat(\"B,W;W,B\")\n",
        "\n",
        "onedimfft = fft(signal,n=16)\n",
        "twodimfft = fft2(signal,shape=(16,16))"
      ],
      "execution_count": 2,
      "outputs": []
    },
    {
      "cell_type": "code",
      "metadata": {
        "id": "njCGBiL4rbTe",
        "colab_type": "code",
        "colab": {
          "base_uri": "https://localhost:8080/",
          "height": 240
        },
        "outputId": "f69ec349-9c3f-4dac-c945-9d88a26de596"
      },
      "source": [
        "plt.figure()\n",
        "plt.gray()\n",
        "plt.subplot(121,aspect='equal')\n",
        "plt.pcolormesh(onedimfft.real)\n",
        "plt.colorbar(orientation='horizontal')\n",
        "plt.subplot(122,aspect='equal')\n",
        "plt.pcolormesh(fftshift(twodimfft.real))\n",
        "plt.colorbar(orientation='horizontal')\n",
        "plt.show()"
      ],
      "execution_count": 3,
      "outputs": [
        {
          "output_type": "display_data",
          "data": {
            "image/png": "[encoded data removed]",
            "text/plain": [
              "<Figure size 432x288 with 4 Axes>"
            ]
          },
          "metadata": {
            "tags": [],
            "needs_background": "light"
          }
        }
      ]
    }
  ]
}