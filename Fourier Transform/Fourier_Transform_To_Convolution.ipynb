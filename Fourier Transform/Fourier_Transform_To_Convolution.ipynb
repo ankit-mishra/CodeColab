{
  "nbformat": 4,
  "nbformat_minor": 0,
  "metadata": {
    "colab": {
      "name": "Untitled3.ipynb",
      "provenance": [],
      "collapsed_sections": []
    },
    "kernelspec": {
      "name": "python3",
      "display_name": "Python 3"
    }
  },
  "cells": [
    {
      "cell_type": "code",
      "metadata": {
        "id": "06fHFLquh7wH",
        "colab_type": "code",
        "colab": {}
      },
      "source": [
        "import sys\n",
        "import numpy as np\n",
        "from scipy import signal\n",
        "from scipy import linalg"
      ],
      "execution_count": null,
      "outputs": []
    },
    {
      "cell_type": "code",
      "metadata": {
        "id": "S7tJ1OzTh_zG",
        "colab_type": "code",
        "colab": {}
      },
      "source": [
        "x = [[1 , 0 , 0 , 0] , [0 , -1 , 0 , 0] , [0 , 0 , 3 , 0] , [0 , 0 , 0 , 1]]\n",
        "x = np.array(x)\n",
        "y = [[4 , 5] , [3 , 4]]\n",
        "y = np.array(y)\n",
        "\n",
        "print(\"conv:\" ,  signal.convolve2d(x , y , 'full'));"
      ],
      "execution_count": null,
      "outputs": []
    },
    {
      "cell_type": "code",
      "metadata": {
        "id": "lSkxAjiKiLGD",
        "colab_type": "code",
        "colab": {}
      },
      "source": [
        "s1 = np.array(x.shape)\n",
        "s2 = np.array(y.shape)\n",
        "\n",
        "size = s1 + s2 - 1"
      ],
      "execution_count": null,
      "outputs": []
    },
    {
      "cell_type": "code",
      "metadata": {
        "id": "6kVaiV02iZoX",
        "colab_type": "code",
        "colab": {}
      },
      "source": [
        "fsize = 2 ** np.ceil(np.log2(size)).astype(int)\n",
        "fslice = tuple([slice(0, int(sz)) for sz in size])"
      ],
      "execution_count": null,
      "outputs": []
    },
    {
      "cell_type": "code",
      "metadata": {
        "id": "nqKhJjd0iemV",
        "colab_type": "code",
        "colab": {}
      },
      "source": [
        "new_x = np.fft.fft2(x , fsize)\n",
        "new_y = np.fft.fft2(y , fsize)\n",
        "\n",
        "result = np.fft.ifft2(new_x*new_y)[fslice].copy()\n",
        "\n",
        "print(\"fft for my method:\" , np.array(result.real , np.int32));\n",
        "print(\"fft:\" , np.array(signal.fftconvolve(x ,y) , np.int32));"
      ],
      "execution_count": null,
      "outputs": []
    }
  ]
}