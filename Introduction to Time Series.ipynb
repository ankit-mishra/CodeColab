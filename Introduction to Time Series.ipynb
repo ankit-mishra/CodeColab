{
  "nbformat": 4,
  "nbformat_minor": 0,
  "metadata": {
    "colab": {
      "name": "Untitled10.ipynb",
      "provenance": [],
      "authorship_tag": "ABX9TyNstM2/uIZOX8Vi+sMxQ+ro",
      "include_colab_link": true
    },
    "kernelspec": {
      "name": "python3",
      "display_name": "Python 3"
    }
  },
  "cells": [
    {
      "cell_type": "markdown",
      "metadata": {
        "id": "view-in-github",
        "colab_type": "text"
      },
      "source": [
        "<a href=\"https://colab.research.google.com/github/ankit-mishra/CodeColab/blob/master/Introduction%20to%20Time%20Series.ipynb\" target=\"_parent\"><img src=\"https://colab.research.google.com/assets/colab-badge.svg\" alt=\"Open In Colab\"/></a>"
      ]
    },
    {
      "cell_type": "code",
      "metadata": {
        "id": "_PL4GevWhXxz",
        "colab_type": "code",
        "colab": {}
      },
      "source": [
        "import numpy as np\n",
        "import matplotlib.pyplot as plt"
      ],
      "execution_count": 1,
      "outputs": []
    },
    {
      "cell_type": "code",
      "metadata": {
        "id": "0mN56zRoh44i",
        "colab_type": "code",
        "colab": {}
      },
      "source": [
        "def plot_series(time, series, format=\"-\"):\n",
        "  plt.figure(figsize=(10, 6))\n",
        "  plt.plot(time, series, format)\n",
        "  plt.xlabel(\"time\")\n",
        "  plt.ylabel(\"value\")\n",
        "  plt.grid(True)"
      ],
      "execution_count": 2,
      "outputs": []
    },
    {
      "cell_type": "code",
      "metadata": {
        "id": "xgsVKtI_inSw",
        "colab_type": "code",
        "colab": {}
      },
      "source": [
        "def trend(time, slope=0):\n",
        "  return slope * time"
      ],
      "execution_count": 3,
      "outputs": []
    },
    {
      "cell_type": "code",
      "metadata": {
        "id": "ri7ZcgSLjRfs",
        "colab_type": "code",
        "colab": {
          "base_uri": "https://localhost:8080/",
          "height": 388
        },
        "outputId": "ba27f5f5-9d21-4260-ab13-0ffd921d2f88"
      },
      "source": [
        "time = np.arange(4 * 365 + 1)\n",
        "baseline = 10\n",
        "series = trend(time, 0.1)\n",
        "plot_series(time, series)\n",
        "plt.show()"
      ],
      "execution_count": 4,
      "outputs": [
        {
          "output_type": "display_data",
          "data": {
            "image/png": "[encoded data removed]",
            "text/plain": [
              "<Figure size 720x432 with 1 Axes>"
            ]
          },
          "metadata": {
            "tags": [],
            "needs_background": "light"
          }
        }
      ]
    },
    {
      "cell_type": "code",
      "metadata": {
        "id": "S9sn766bkTiz",
        "colab_type": "code",
        "colab": {}
      },
      "source": [
        "def seasonal_pattern(season_time):\n",
        "  return np.where(\n",
        "      season_time < 0.4,\n",
        "      np.cos(season_time * 2 * np.pi),\n",
        "      1 / np.exp(3 * season_time)\n",
        "  )\n",
        "\n",
        "def seasonality(time, period, amplitude=1, phase=0):\n",
        "  season_time = ((time + phase) % period) / period\n",
        "  return amplitude * seasonal_pattern(season_time)"
      ],
      "execution_count": 5,
      "outputs": []
    },
    {
      "cell_type": "code",
      "metadata": {
        "id": "82j80gytpDrd",
        "colab_type": "code",
        "colab": {}
      },
      "source": [
        "baseline = 10\n",
        "amplitude = 40\n",
        "series = seasonality(time, period=365, amplitude=amplitude)\n",
        "plot_series(time, series)\n",
        "plt.show()"
      ],
      "execution_count": null,
      "outputs": []
    },
    {
      "cell_type": "code",
      "metadata": {
        "id": "ZyySeI9Kqrrv",
        "colab_type": "code",
        "colab": {}
      },
      "source": [
        "slope = 0.05\n",
        "series = baseline + trend(time, slope) + seasonality(time, period=365,amplitude=amplitude)\n",
        "plot_series(time, series)\n",
        "plt.show()"
      ],
      "execution_count": null,
      "outputs": []
    },
    {
      "cell_type": "code",
      "metadata": {
        "id": "bpavu0pOrN0Q",
        "colab_type": "code",
        "colab": {}
      },
      "source": [
        "def noise(time, noise_level=1, seed=None):\n",
        "  rnd = np.random.RandomState(seed)\n",
        "  return rnd.random(len(time)) + noise_level"
      ],
      "execution_count": null,
      "outputs": []
    },
    {
      "cell_type": "code",
      "metadata": {
        "id": "Otxvftb4sEUo",
        "colab_type": "code",
        "colab": {}
      },
      "source": [
        "noisy_level = 15\n",
        "noisy_series = series + noise(time, noise_level, seed=42)\n",
        "plot_series(time, noisy_series)\n",
        "plt.show()"
      ],
      "execution_count": null,
      "outputs": []
    }
  ]
}